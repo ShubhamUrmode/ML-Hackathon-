{
 "cells": [
  {
   "cell_type": "raw",
   "id": "deccb881",
   "metadata": {},
   "source": [
    "\n",
    "1. \n",
    "n = float(input('Enter a number: '))\n",
    "n_sqrt = n ** 0.5\n",
    "print('The square root of {0} is {1}.format(n ,n_sqrt))"
   ]
  },
  {
   "cell_type": "code",
   "execution_count": 16,
   "id": "06e8e3e8",
   "metadata": {
    "scrolled": true
   },
   "outputs": [
    {
     "name": "stdout",
     "output_type": "stream",
     "text": [
      "Enter a number: 4\n",
      "The square root of 4.0 is 2.0.\n"
     ]
    }
   ],
   "source": [
    "n = float(input('Enter a number: '))\n",
    "n_sqrt = n ** 0.5\n",
    "print(\"The square root of {0} is {1}.\".format(n, n_sqrt))"
   ]
  },
  {
   "cell_type": "raw",
   "id": "b9cdfd2a",
   "metadata": {},
   "source": [
    "3.\n",
    "A,b = 0\n",
    "If(a ==b)\n",
    "A+b = c\n",
    "Print(Z)"
   ]
  },
  {
   "cell_type": "code",
   "execution_count": 2,
   "id": "a9fdf558",
   "metadata": {},
   "outputs": [
    {
     "name": "stdout",
     "output_type": "stream",
     "text": [
      "0\n"
     ]
    }
   ],
   "source": [
    "a,b = 0,0\n",
    "if a == b:\n",
    "    c = a+b\n",
    "print(c)"
   ]
  },
  {
   "cell_type": "code",
   "execution_count": null,
   "id": "00f1bdfd",
   "metadata": {},
   "outputs": [],
   "source": []
  },
  {
   "cell_type": "raw",
   "id": "d93f73d8",
   "metadata": {},
   "source": [
    "Runs = (1,6,7,8,0,99)\n",
    "For I in runs:\n",
    "If I = 0:\n",
    "Print(maiden)\n",
    "Else\n",
    "Print(notmaiden)\n"
   ]
  },
  {
   "cell_type": "code",
   "execution_count": 3,
   "id": "51735ad8",
   "metadata": {},
   "outputs": [
    {
     "name": "stdout",
     "output_type": "stream",
     "text": [
      "notmaiden\n",
      "notmaiden\n",
      "notmaiden\n",
      "notmaiden\n",
      "maiden\n",
      "notmaiden\n"
     ]
    }
   ],
   "source": [
    "Runs = (1,6,7,8,0,99)\n",
    "for i in Runs:\n",
    "    if i == 0:\n",
    "        print('maiden')\n",
    "    else:\n",
    "        print('notmaiden')"
   ]
  },
  {
   "cell_type": "raw",
   "id": "8e78e83e",
   "metadata": {},
   "source": [
    "A = {6:’anu’,’sumit’:7,5: “me”)\n",
    "For I in a:\n",
    "If int(i)% 3= 0\n",
    "Print(a(i))\n"
   ]
  },
  {
   "cell_type": "code",
   "execution_count": 4,
   "id": "4adfd607",
   "metadata": {},
   "outputs": [
    {
     "name": "stdout",
     "output_type": "stream",
     "text": [
      "anu\n"
     ]
    }
   ],
   "source": [
    "A = {6: 'anu', 'sumit': 7, 5: 'me'}\n",
    "\n",
    "for i in A:\n",
    "    if isinstance(i, int) and i % 3 == 0:\n",
    "        print(A[i])\n"
   ]
  },
  {
   "cell_type": "raw",
   "id": "e923663c",
   "metadata": {},
   "source": [
    "L = [1,2,3,4,5,6,’e’,’f’]\n",
    "For I in L:\n",
    "If I ==’a’: \n",
    "Break\n",
    "Else:\n",
    "Print(“A”)\n"
   ]
  },
  {
   "cell_type": "code",
   "execution_count": 5,
   "id": "e1f17749",
   "metadata": {},
   "outputs": [
    {
     "name": "stdout",
     "output_type": "stream",
     "text": [
      "A\n",
      "A\n",
      "A\n",
      "A\n",
      "A\n",
      "A\n",
      "A\n",
      "A\n"
     ]
    }
   ],
   "source": [
    "L = [1, 2, 3, 4, 5, 6, 'e', 'f']\n",
    "\n",
    "for i in L:\n",
    "    if i == 'a':\n",
    "        break\n",
    "    else:\n",
    "        print('A')\n"
   ]
  },
  {
   "cell_type": "raw",
   "id": "48bb0534",
   "metadata": {},
   "source": [
    "Print(“hello all”) \n",
    "For I in range(2,5):\n",
    "For I in Range(1,10)\n",
    "Def title()\n",
    "If I <=5:\n"
   ]
  },
  {
   "cell_type": "code",
   "execution_count": 6,
   "id": "a74a0131",
   "metadata": {},
   "outputs": [
    {
     "name": "stdout",
     "output_type": "stream",
     "text": [
      "hello all\n"
     ]
    }
   ],
   "source": [
    "print(\"hello all\")\n",
    "for i in range(2, 5):\n",
    "    for i in range(1, 10):\n",
    "        def title():\n",
    "            if i <= 5:\n",
    "                pass  \n",
    "    "
   ]
  },
  {
   "cell_type": "markdown",
   "id": "85a376f7",
   "metadata": {},
   "source": []
  },
  {
   "cell_type": "code",
   "execution_count": null,
   "id": "8d87b87a",
   "metadata": {},
   "outputs": [],
   "source": []
  },
  {
   "cell_type": "markdown",
   "id": "38e1c880",
   "metadata": {},
   "source": [
    "2 X= int(“enter value of x:”)\n",
    "For in range[0,10]:\n",
    "If x==y:\n",
    "Print(“they are equal”)\n",
    "Else:\n",
    "Print(“they are unequal)\n"
   ]
  },
  {
   "cell_type": "code",
   "execution_count": 7,
   "id": "b4472702",
   "metadata": {},
   "outputs": [
    {
     "name": "stdout",
     "output_type": "stream",
     "text": [
      "Enter value of x: 5\n",
      "They are unequal\n",
      "They are unequal\n",
      "They are unequal\n",
      "They are unequal\n",
      "They are unequal\n",
      "They are equal\n",
      "They are unequal\n",
      "They are unequal\n",
      "They are unequal\n",
      "They are unequal\n"
     ]
    }
   ],
   "source": [
    "x = int(input(\"Enter value of x: \"))  \n",
    "\n",
    "for y in range(0, 10): \n",
    "    if x == y:\n",
    "        print(\"They are equal\")\n",
    "    else:\n",
    "        print(\"They are unequal\")\n"
   ]
  },
  {
   "cell_type": "raw",
   "id": "2368d6e0",
   "metadata": {},
   "source": [
    "6 Str = “welcome to symbiosis”\n",
    "For s in range[ 3,9]:\n",
    "Print(s(9))\n"
   ]
  },
  {
   "cell_type": "code",
   "execution_count": 8,
   "id": "ccd71408",
   "metadata": {},
   "outputs": [
    {
     "name": "stdout",
     "output_type": "stream",
     "text": [
      "come t\n",
      "ome t\n",
      "me t\n",
      "e t\n",
      " t\n",
      "t\n"
     ]
    }
   ],
   "source": [
    "my_str = \"welcome to symbiosis\"\n",
    "\n",
    "for s in range(3, 9):\n",
    "    print(my_str[s:9])\n"
   ]
  },
  {
   "cell_type": "raw",
   "id": "ec0747f8",
   "metadata": {},
   "source": [
    "5 \n",
    "10 = step\n",
    "For e in range(0.step):\n",
    "If e %2 == 0:\n",
    "Print(e+1)\n",
    "Else:\n",
    "Print(e-1)\n"
   ]
  },
  {
   "cell_type": "code",
   "execution_count": 9,
   "id": "1e3d29cc",
   "metadata": {},
   "outputs": [
    {
     "name": "stdout",
     "output_type": "stream",
     "text": [
      "1\n",
      "0\n",
      "3\n",
      "2\n",
      "5\n",
      "4\n",
      "7\n",
      "6\n",
      "9\n",
      "8\n"
     ]
    }
   ],
   "source": [
    "step = 10\n",
    "\n",
    "for e in range(0, step):\n",
    "    if e % 2 == 0:\n",
    "        print(e + 1)\n",
    "    else:\n",
    "        print(e - 1)\n"
   ]
  },
  {
   "cell_type": "raw",
   "id": "e0a8f52b",
   "metadata": {},
   "source": [
    "4   Fee = 250\n",
    "0 = i\n",
    "While fee <=2000:\n",
    "If fee<= 750:\n",
    "Print(fee)\n",
    "Else:\n",
    "Print(“fee”*i)\n",
    "I = i+1\n",
    "Fee   = fee+250\n"
   ]
  },
  {
   "cell_type": "code",
   "execution_count": 10,
   "id": "714194f2",
   "metadata": {},
   "outputs": [
    {
     "name": "stdout",
     "output_type": "stream",
     "text": [
      "250\n",
      "500\n",
      "750\n",
      "feefeefee\n",
      "feefeefeefee\n",
      "feefeefeefeefee\n",
      "feefeefeefeefeefee\n",
      "feefeefeefeefeefeefee\n"
     ]
    }
   ],
   "source": [
    "fee = 250\n",
    "i = 0\n",
    "\n",
    "while fee <= 2000:\n",
    "    if fee <= 750:\n",
    "        print(fee)\n",
    "    else:\n",
    "        print(\"fee\" * i)\n",
    "    i += 1\n",
    "    fee += 250\n"
   ]
  },
  {
   "cell_type": "raw",
   "id": "b0b9a45d",
   "metadata": {},
   "source": [
    "5 Write a code snippet to generate the square of every element of a list"
   ]
  },
  {
   "cell_type": "code",
   "execution_count": 11,
   "id": "e1b2a64d",
   "metadata": {},
   "outputs": [
    {
     "name": "stdout",
     "output_type": "stream",
     "text": [
      "Original List: [2, 4, 6, 8, 10]\n",
      "Squared List: [4, 16, 36, 64, 100]\n"
     ]
    }
   ],
   "source": [
    "\n",
    "input_list = [2, 4, 6, 8, 10]\n",
    "\n",
    "squared_list = [x ** 2 for x in input_list]\n",
    "\n",
    "print(\"Original List:\", input_list)\n",
    "print(\"Squared List:\", squared_list)\n"
   ]
  },
  {
   "cell_type": "raw",
   "id": "25a7aedd",
   "metadata": {},
   "source": [
    "4 str1 = \"ALL is well\" \n",
    "Write a code snippet to convert a string to a list.\n"
   ]
  },
  {
   "cell_type": "code",
   "execution_count": 12,
   "id": "5552cb18",
   "metadata": {},
   "outputs": [
    {
     "name": "stdout",
     "output_type": "stream",
     "text": [
      "Original String: ALL is well\n",
      "String converted to list: ['ALL', 'is', 'well']\n"
     ]
    }
   ],
   "source": [
    "str1 = \"ALL is well\"\n",
    "list_from_str = str1.split()\n",
    "\n",
    "print(\"Original String:\", str1)\n",
    "print(\"String converted to list:\", list_from_str)\n",
    "\n"
   ]
  },
  {
   "cell_type": "raw",
   "id": "79d3d7cc",
   "metadata": {},
   "source": [
    "3 Write a Python program to create a class called mobile which contains a method called display which displays the name of the mobile owner, mobile brand, colour and camera pixel"
   ]
  },
  {
   "cell_type": "code",
   "execution_count": 13,
   "id": "5ee023ac",
   "metadata": {},
   "outputs": [
    {
     "name": "stdout",
     "output_type": "stream",
     "text": [
      "Mobile Owner: John\n",
      "Mobile Brand: Samsung\n",
      "Mobile Color: Black\n",
      "Camera Pixel: 16 MP\n"
     ]
    }
   ],
   "source": [
    "class Mobile:\n",
    "    def __init__(self, owner_name, brand, color, camera_pixel):\n",
    "        self.owner_name = owner_name\n",
    "        self.brand = brand\n",
    "        self.color = color\n",
    "        self.camera_pixel = camera_pixel\n",
    "\n",
    "    def display(self):\n",
    "        print(\"Mobile Owner:\", self.owner_name)\n",
    "        print(\"Mobile Brand:\", self.brand)\n",
    "        print(\"Mobile Color:\", self.color)\n",
    "        print(\"Camera Pixel:\", self.camera_pixel)\n",
    "\n",
    "\n",
    "mobile1 = Mobile(\"John\", \"Samsung\", \"Black\", \"16 MP\")\n",
    "\n",
    "mobile1.display()\n"
   ]
  },
  {
   "cell_type": "raw",
   "id": "3ebd0f16",
   "metadata": {},
   "source": [
    "1.WAP to print the position or index of a given string (taken as input from a user) from a given list of strings."
   ]
  },
  {
   "cell_type": "code",
   "execution_count": 14,
   "id": "6adff36f",
   "metadata": {},
   "outputs": [
    {
     "name": "stdout",
     "output_type": "stream",
     "text": [
      "Enter the string to find: date\n",
      "The index of the string 'date' is 3.\n"
     ]
    }
   ],
   "source": [
    "list = [\"apple\", \"banana\", \"cherry\", \"date\", \"elderberry\"]\n",
    "string_to_find = input(\"Enter the string to find: \")\n",
    "\n",
    "if string_to_find in list:\n",
    "    index_of_string = list.index(string_to_find)\n",
    "    print(\"The index of the string '{0}' is {1}.\".format(string_to_find, index_of_string))\n",
    "else:\n",
    "    print(\"The string '{0}' is not in the list.\".format(string_to_find))"
   ]
  },
  {
   "cell_type": "raw",
   "id": "98416b2d",
   "metadata": {},
   "source": [
    "2. Create a function count_words() which takes a string as input and creates a dictionary with a word in the string as a key and its value as the number of times the word is repeated in the string. It should return the dictionary."
   ]
  },
  {
   "cell_type": "code",
   "execution_count": 15,
   "id": "1683f489",
   "metadata": {},
   "outputs": [
    {
     "name": "stdout",
     "output_type": "stream",
     "text": [
      "{'I': 1, 'love': 1, 'Python': 1}\n"
     ]
    }
   ],
   "source": [
    "def count_words(input_string):\n",
    "    words = input_string.split()\n",
    "    word_count = {}\n",
    "    for word in words:\n",
    "        if word in word_count:\n",
    "            word_count[word] += 1\n",
    "        else:\n",
    "            word_count[word] = 1\n",
    "    return word_count\n",
    "\n",
    "input_string = \"I love Python\"\n",
    "word_count = count_words(input_string)\n",
    "print(word_count)"
   ]
  },
  {
   "cell_type": "code",
   "execution_count": null,
   "id": "63e18701",
   "metadata": {},
   "outputs": [],
   "source": []
  }
 ],
 "metadata": {
  "kernelspec": {
   "display_name": "Python 3 (ipykernel)",
   "language": "python",
   "name": "python3"
  },
  "language_info": {
   "codemirror_mode": {
    "name": "ipython",
    "version": 3
   },
   "file_extension": ".py",
   "mimetype": "text/x-python",
   "name": "python",
   "nbconvert_exporter": "python",
   "pygments_lexer": "ipython3",
   "version": "3.11.4"
  }
 },
 "nbformat": 4,
 "nbformat_minor": 5
}
